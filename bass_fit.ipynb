{
 "cells": [
  {
   "cell_type": "code",
   "execution_count": null,
   "id": "acc6f640",
   "metadata": {},
   "outputs": [],
   "source": [
    "%load_ext autoreload\n",
    "%autoreload 2"
   ]
  },
  {
   "cell_type": "markdown",
   "id": "edd644ca",
   "metadata": {},
   "source": [
    "\n",
    "\n",
    "    Let s = s0\n",
    "    For k = 0 through kmax (exclusive):\n",
    "        T ← temperature( 1 - (k+1)/kmax )\n",
    "        Pick a random neighbour, snew ← neighbour(s)\n",
    "        If P(E(s), E(snew), T) ≥ random(0, 1):\n",
    "            s ← snew\n",
    "    Output: the final state s\n",
    "\n"
   ]
  },
  {
   "cell_type": "code",
   "execution_count": null,
   "id": "791df8cf",
   "metadata": {},
   "outputs": [],
   "source": [
    "from genetic_musical_generator.beat_fit import AnnealingFitter\n",
    "\n",
    "class BassFit(AnnealingFitter):\n",
    "    def __init__(self, track, anacrusis=4):\n",
    "        super().__init__()\n",
    "        self.track = track\n",
    "        self.anacrusis = anacrusis\n",
    "        \n",
    "        self._lead_notes = None"
   ]
  },
  {
   "cell_type": "code",
   "execution_count": null,
   "id": "bf2a5ae7",
   "metadata": {},
   "outputs": [],
   "source": [
    "from genetic_musical_generator.beat_fit import BeatFit, play\n",
    "from genetic_musical_generator.random_genome_to_midi import random_genome, genome2midi"
   ]
  },
  {
   "cell_type": "code",
   "execution_count": null,
   "id": "e807b6cd",
   "metadata": {},
   "outputs": [],
   "source": [
    "track = genome2midi('SDBDFDBBSFDSDDSFSDSUDSDBUBFUSBFFUDBDBUDU')\n",
    "track"
   ]
  },
  {
   "cell_type": "code",
   "execution_count": null,
   "id": "21934786",
   "metadata": {},
   "outputs": [],
   "source": [
    "beatfit = BeatFit(track)"
   ]
  },
  {
   "cell_type": "code",
   "execution_count": null,
   "id": "68272e35",
   "metadata": {},
   "outputs": [],
   "source": [
    "beatfit.fit()"
   ]
  },
  {
   "cell_type": "code",
   "execution_count": null,
   "id": "54a315ee",
   "metadata": {},
   "outputs": [],
   "source": [
    "beatfit.fitted_state"
   ]
  },
  {
   "cell_type": "code",
   "execution_count": null,
   "id": "c43fe666",
   "metadata": {},
   "outputs": [],
   "source": [
    "beatfit.tempo()"
   ]
  },
  {
   "cell_type": "code",
   "execution_count": null,
   "id": "f3f7be27",
   "metadata": {},
   "outputs": [],
   "source": [
    "beatfit.complete"
   ]
  },
  {
   "cell_type": "code",
   "execution_count": null,
   "id": "e9f07b3e",
   "metadata": {},
   "outputs": [],
   "source": [
    "play(beatfit.complete)"
   ]
  },
  {
   "cell_type": "markdown",
   "id": "2cba2a83",
   "metadata": {},
   "source": [
    "Exclude notes from channel 9 from consideration."
   ]
  },
  {
   "cell_type": "code",
   "execution_count": null,
   "id": "67259628",
   "metadata": {},
   "outputs": [],
   "source": [
    "import random\n",
    "from dataclasses import dataclass\n",
    "from fastcore.basics import patch"
   ]
  },
  {
   "cell_type": "code",
   "execution_count": null,
   "id": "7a569911",
   "metadata": {},
   "outputs": [],
   "source": [
    "@patch(as_prop=True)\n",
    "def total_beats(self:BassFit):\n",
    "    return max([sum([m.time for m in t]) for t in self.track.tracks]) // self.track.ticks_per_beat"
   ]
  },
  {
   "cell_type": "code",
   "execution_count": null,
   "id": "0482578a",
   "metadata": {},
   "outputs": [],
   "source": [
    "@dataclass\n",
    "class BassNote:\n",
    "    pitch: int\n",
    "    length: int\n",
    "\n",
    "@patch\n",
    "def neighbour(self:BassFit, state):\n",
    "    \"\"\"TODO: neighbouring states are a note extended or shortened at start or end, \n",
    "    or having a pitch changed\"\"\"\n",
    "    if len(state)>0:\n",
    "        i = random.randrange(len(state))\n",
    "        note = state[i]\n",
    "        options = [BassNote(note.pitch, note.length+m) for m in [-1,1] \n",
    "                   if note.length+m >= 2 and note.length+m <= 8]\n",
    "        options.append(BassNote(random.randint(0,11), note.length))\n",
    "        state[i] = random.choice(options)\n",
    "    # check still as long as song length\n",
    "    while sum([n.length for n in state]) < self.total_beats - self.anacrusis:\n",
    "        state.append(BassNote(random.randint(0,11), random.randint(2,8)))\n",
    "    return state\n",
    "\n",
    "@patch\n",
    "def random_state(self:BassFit):\n",
    "    return self.neighbour([])"
   ]
  },
  {
   "cell_type": "code",
   "execution_count": null,
   "id": "72e93a2d",
   "metadata": {},
   "outputs": [],
   "source": [
    "bassfit = BassFit(beatfit.complete)\n",
    "r = bassfit.random_state()\n",
    "while r[0].length != 3:\n",
    "    r = bassfit.random_state()\n",
    "r"
   ]
  },
  {
   "cell_type": "code",
   "execution_count": null,
   "id": "0d537355",
   "metadata": {},
   "outputs": [],
   "source": [
    "n = bassfit.neighbour(r)\n",
    "while len(n)<2:\n",
    "    n = bassfit.neighbour(r)\n",
    "n"
   ]
  },
  {
   "cell_type": "code",
   "execution_count": null,
   "id": "5664a341",
   "metadata": {},
   "outputs": [],
   "source": [
    "bassfit = BassFit(beatfit.complete)\n",
    "r = bassfit.random_state()\n",
    "while len(r)<2:\n",
    "    r = bassfit.random_state()\n",
    "r"
   ]
  },
  {
   "cell_type": "code",
   "execution_count": null,
   "id": "777d044e",
   "metadata": {},
   "outputs": [],
   "source": [
    "beatfit.complete"
   ]
  },
  {
   "cell_type": "code",
   "execution_count": null,
   "id": "0582b3fb",
   "metadata": {},
   "outputs": [],
   "source": [
    "from fractions import Fraction\n",
    "from mido import MetaMessage\n",
    "\n",
    "@dataclass\n",
    "class Note:\n",
    "    pitch: int\n",
    "    start: Fraction\n",
    "    end: Fraction\n",
    "\n",
    "@patch(as_prop=True)\n",
    "def lead_notes(self:BassFit):\n",
    "    if self._lead_notes is not None: return self._lead_notes\n",
    "    notes = []\n",
    "    for track in self.track.tracks:\n",
    "        pos = 0\n",
    "        playing = dict()\n",
    "        for msg in track:\n",
    "            pos += msg.time\n",
    "            if isinstance(msg, MetaMessage) or msg.channel == 9:\n",
    "                continue\n",
    "            if msg.type == 'note_on':\n",
    "                if msg.note not in playing:\n",
    "                    playing[msg.note] = pos\n",
    "            elif msg.type == 'note_off':\n",
    "                if msg.note not in playing:\n",
    "                    continue\n",
    "                notes.append(Note(msg.note, Fraction(playing[msg.note], self.track.ticks_per_beat), \n",
    "                                  Fraction(pos, self.track.ticks_per_beat)))\n",
    "                del playing[msg.note]\n",
    "\n",
    "        if len(playing)>0:\n",
    "            raise ValueError('Not all notes were turned off')\n",
    "            \n",
    "    self._lead_notes = notes\n",
    "    return notes"
   ]
  },
  {
   "cell_type": "code",
   "execution_count": null,
   "id": "0d5ef6f0",
   "metadata": {},
   "outputs": [],
   "source": [
    "beatfit.fitted_state = (Fraction(0, 1), Fraction(2, 1), 2)"
   ]
  },
  {
   "cell_type": "code",
   "execution_count": null,
   "id": "c27b1340",
   "metadata": {},
   "outputs": [],
   "source": [
    "bassfit = BassFit(beatfit.complete)\n",
    "bassfit.lead_notes"
   ]
  },
  {
   "cell_type": "code",
   "execution_count": null,
   "id": "c43811f1",
   "metadata": {},
   "outputs": [],
   "source": [
    "class Cluster(set):\n",
    "    def __init__(self, se=()):\n",
    "        super().__init__([s%12 for s in se])\n",
    "        \n",
    "    def __le__(self, other):\n",
    "        if super().issubset(other):\n",
    "            return True\n",
    "        for m in range(1,12):\n",
    "            if set([(n+m)%12 for n in self]) <= other:\n",
    "                return True\n",
    "        return False"
   ]
  },
  {
   "cell_type": "code",
   "execution_count": null,
   "id": "84a85f8b",
   "metadata": {},
   "outputs": [],
   "source": [
    "assert Cluster([12,13,0,4,60]) == {0,1,4}"
   ]
  },
  {
   "cell_type": "code",
   "execution_count": null,
   "id": "bb51331b",
   "metadata": {},
   "outputs": [],
   "source": [
    "assert Cluster([1,2]).issubset(Cluster([1,2,4]))\n",
    "assert not Cluster([0,7]) <= Cluster([5,11])\n",
    "assert Cluster([1,2]) <= Cluster([1,2,4])\n",
    "assert Cluster([1,2]) <= Cluster([4,5,7])\n",
    "assert Cluster([0,7]) <= Cluster([0,5])"
   ]
  },
  {
   "cell_type": "code",
   "execution_count": null,
   "id": "4fdbc0a6",
   "metadata": {},
   "outputs": [],
   "source": [
    "@patch\n",
    "def coincident_notes(self:BassFit, start, end):\n",
    "    return Cluster([n.pitch for n in \n",
    "                [n for n in self.lead_notes \n",
    "                 if (n.start >= start and n.start < end) or (n.start < start and n.end > start)]])"
   ]
  },
  {
   "cell_type": "code",
   "execution_count": null,
   "id": "ec0b9900",
   "metadata": {},
   "outputs": [],
   "source": [
    "assert bassfit.coincident_notes(5,6) == {6, 8}\n",
    "assert bassfit.coincident_notes(3,4) == set()\n",
    "assert bassfit.coincident_notes(4.5,5.5) == {6, 8, 9}"
   ]
  },
  {
   "cell_type": "code",
   "execution_count": null,
   "id": "da5a086e",
   "metadata": {},
   "outputs": [],
   "source": [
    "assert Cluster([1,2,3]) | Cluster({12}) == {0,1,2,3}"
   ]
  },
  {
   "cell_type": "code",
   "execution_count": null,
   "id": "28ed20e6",
   "metadata": {},
   "outputs": [],
   "source": [
    "BassFit.dis_classes = [\n",
    "    Cluster([0]),\n",
    "    Cluster([0,7]),\n",
    "    Cluster([0,4,7]),\n",
    "    Cluster([0,3,7]),\n",
    "    Cluster([0,4,7,9]),\n",
    "    Cluster([0,2,4,7,9]),\n",
    "    Cluster([0,2,4,7,9,11]),\n",
    "    Cluster([0,2,4,6,7,9,11]),\n",
    "    Cluster([0,2,4,6,8,9,11]),\n",
    "    Cluster([0,2,3,6,7,9,11]),\n",
    "    Cluster([0,2,4,6,8,10]),\n",
    "    Cluster([0,2,3,5,6,8,9,11]),\n",
    "    Cluster([0,2,4,6,7,8,9,11]),\n",
    "    Cluster([0,2,3,4,6,7,8,9,11]),\n",
    "    Cluster([0,2,3,4,6,7,8,9,10,11]),\n",
    "    Cluster([0,2,3,4,5,6,7,8,9,10,11]),\n",
    "    Cluster([0,1,2,3,4,5,6,7,8,9,10,11]),\n",
    "]\n",
    "\n",
    "@patch(cls_method=True)\n",
    "def dissonance_class(cls:BassFit, cluster):\n",
    "    for i,dc in enumerate(cls.dis_classes):\n",
    "        if cluster <= dc:\n",
    "            return i\n",
    "        \n",
    "    return len(cls.dis_classes)"
   ]
  },
  {
   "cell_type": "code",
   "execution_count": null,
   "id": "8a341cb6",
   "metadata": {},
   "outputs": [],
   "source": [
    "assert BassFit.dissonance_class(Cluster([54])) == 0\n",
    "assert BassFit.dissonance_class(Cluster([54,59])) == 1\n",
    "assert BassFit.dissonance_class(Cluster([18,19,20,21,22,23])) > BassFit.dissonance_class(Cluster([54,59]))"
   ]
  },
  {
   "cell_type": "code",
   "execution_count": null,
   "id": "c8f62137",
   "metadata": {},
   "outputs": [],
   "source": [
    "@patch\n",
    "def loss(self:BassFit, state):\n",
    "    pos = self.anacrusis\n",
    "    loss = 0\n",
    "    for bass_note in state:\n",
    "        cluster = self.coincident_notes(pos, pos+bass_note.length) | Cluster({bass_note.pitch})\n",
    "        loss += BassFit.dissonance_class(cluster)\n",
    "    return loss\n",
    "\n",
    "@patch\n",
    "def losses(self:BassFit, state, next_state):\n",
    "    return self.loss(state), self.loss(next_state)"
   ]
  },
  {
   "cell_type": "code",
   "execution_count": null,
   "id": "0c3df138",
   "metadata": {},
   "outputs": [],
   "source": [
    "bassfit = BassFit(beatfit.complete)\n",
    "bassfit.fit()\n",
    "bassfit.fitted_state"
   ]
  },
  {
   "cell_type": "code",
   "execution_count": null,
   "id": "6be7dbf3",
   "metadata": {},
   "outputs": [],
   "source": [
    "random.gauss(0,12)"
   ]
  },
  {
   "cell_type": "markdown",
   "id": "d150a424",
   "metadata": {},
   "source": [
    "0 -> 36\n",
    "\n",
    "...\n",
    "\n",
    "\n",
    "4 -> 28\n",
    "\n",
    "5 -> 29\n",
    "\n",
    "...\n",
    "\n",
    "\n"
   ]
  },
  {
   "cell_type": "code",
   "execution_count": null,
   "id": "ff97f4f7",
   "metadata": {},
   "outputs": [],
   "source": [
    "(lambda x: (x-4)%12 + 28)(4)"
   ]
  },
  {
   "cell_type": "code",
   "execution_count": null,
   "id": "dc176b50",
   "metadata": {},
   "outputs": [],
   "source": [
    "list(range(28,53,12))"
   ]
  },
  {
   "cell_type": "code",
   "execution_count": null,
   "id": "92328778",
   "metadata": {},
   "outputs": [],
   "source": [
    "import mido\n",
    "\n",
    "@patch\n",
    "def near_note(self:BassFit, note):\n",
    "    # make a shot at desired pitch range with normal distribution skewed down a little\n",
    "    shot = self.last_note + random.gauss(0,12) - 4\n",
    "    \n",
    "    # get note in bottom octave of bass\n",
    "    bot_oct = lambda x: (x-4)%12 + 28\n",
    "    \n",
    "    # get the closest of note on bass neck to shot\n",
    "    n = min(range(bot_oct(note), 53, 12), key=lambda x: abs(shot-x))\n",
    "    self.last_note = n\n",
    "    return n"
   ]
  },
  {
   "cell_type": "code",
   "execution_count": null,
   "id": "8ecc4cf6",
   "metadata": {},
   "outputs": [],
   "source": [
    "bassfit.last_note = 40"
   ]
  },
  {
   "cell_type": "code",
   "execution_count": null,
   "id": "e706ca42",
   "metadata": {},
   "outputs": [],
   "source": [
    "bassfit.near_note(11)"
   ]
  },
  {
   "cell_type": "code",
   "execution_count": null,
   "id": "ca5bf785",
   "metadata": {},
   "outputs": [],
   "source": [
    "assert bassfit.near_note(0)%12 == 0\n",
    "assert bassfit.near_note(11)%12 == 11"
   ]
  },
  {
   "cell_type": "code",
   "execution_count": null,
   "id": "0f42398b",
   "metadata": {},
   "outputs": [],
   "source": [
    "import copy\n",
    "\n",
    "@patch(as_prop=True)\n",
    "def complete(self:BassFit):\n",
    "    output = copy.deepcopy(self.track)\n",
    "    bass = mido.MidiTrack()\n",
    "    output.tracks.append(bass)\n",
    "    \n",
    "    # middle E on bass guitar\n",
    "    self.last_note = 40\n",
    "    \n",
    "    pause = self.anacrusis * output.ticks_per_beat\n",
    "    for note in self.fitted_state:\n",
    "        pitch = self.near_note(note.pitch)\n",
    "        bass.append(mido.Message('note_on', note=pitch, time=pause, channel=1))\n",
    "        pause = 0\n",
    "        bass.append(mido.Message('note_off', note=pitch, time=note.length*output.ticks_per_beat, channel=1))\n",
    "        \n",
    "    return output"
   ]
  },
  {
   "cell_type": "code",
   "execution_count": null,
   "id": "981e4a6c",
   "metadata": {},
   "outputs": [],
   "source": [
    "bassfit.complete"
   ]
  },
  {
   "cell_type": "code",
   "execution_count": null,
   "id": "5955e688",
   "metadata": {},
   "outputs": [],
   "source": [
    "play(bassfit.complete)"
   ]
  },
  {
   "cell_type": "code",
   "execution_count": null,
   "id": "f5e07cda",
   "metadata": {},
   "outputs": [],
   "source": []
  }
 ],
 "metadata": {
  "kernelspec": {
   "display_name": "Python 3 (ipykernel)",
   "language": "python",
   "name": "python3"
  }
 },
 "nbformat": 4,
 "nbformat_minor": 5
}
