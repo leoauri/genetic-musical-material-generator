{
 "cells": [
  {
   "cell_type": "code",
   "execution_count": null,
   "id": "d125d041",
   "metadata": {},
   "outputs": [],
   "source": [
    "%load_ext autoreload\n",
    "%autoreload 2"
   ]
  },
  {
   "cell_type": "code",
   "execution_count": null,
   "id": "b75f2857",
   "metadata": {},
   "outputs": [],
   "source": [
    "#default_exp beat_fit"
   ]
  },
  {
   "cell_type": "code",
   "execution_count": null,
   "id": "eb3b6f34",
   "metadata": {},
   "outputs": [],
   "source": [
    "#export\n",
    "import mido\n",
    "\n",
    "import random\n",
    "import math\n",
    "from math import floor, ceil\n",
    "\n",
    "from fastcore.basics import patch\n",
    "from fractions import Fraction"
   ]
  },
  {
   "cell_type": "code",
   "execution_count": null,
   "id": "bab8d502",
   "metadata": {},
   "outputs": [],
   "source": [
    "from fastcore.test import test_fail, test_close\n",
    "from genetic_musical_generator.utility import hear\n",
    "from genetic_musical_generator.random_genome_to_midi import random_genome, genome2midi"
   ]
  },
  {
   "cell_type": "code",
   "execution_count": null,
   "id": "2f56b79c",
   "metadata": {},
   "outputs": [],
   "source": [
    "g = random_genome(40)"
   ]
  },
  {
   "cell_type": "code",
   "execution_count": null,
   "id": "39fcc784",
   "metadata": {},
   "outputs": [],
   "source": [
    "hear('DUFBFSDBBDBFUSSSSFDUSSDUUUSFSFFSBBSBBFSU')"
   ]
  },
  {
   "cell_type": "code",
   "execution_count": null,
   "id": "81da0a3a",
   "metadata": {},
   "outputs": [],
   "source": [
    "lead = genome2midi('DUFBFSDBBDBFUSSSSFDUSSDUUUSFSFFSBBSBBFSU')\n",
    "lead"
   ]
  },
  {
   "cell_type": "markdown",
   "id": "1564c35a",
   "metadata": {},
   "source": [
    "We are going to use simulated annealing to fit a pulse to the generated midi"
   ]
  },
  {
   "cell_type": "markdown",
   "id": "edd644ca",
   "metadata": {},
   "source": [
    "\n",
    "\n",
    "    Let s = s0\n",
    "    For k = 0 through kmax (exclusive):\n",
    "        T ← temperature( 1 - (k+1)/kmax )\n",
    "        Pick a random neighbour, snew ← neighbour(s)\n",
    "        If P(E(s), E(snew), T) ≥ random(0, 1):\n",
    "            s ← snew\n",
    "    Output: the final state s\n",
    "\n"
   ]
  },
  {
   "cell_type": "code",
   "execution_count": null,
   "id": "ff551c62",
   "metadata": {},
   "outputs": [],
   "source": [
    "#export\n",
    "def primefactors(n):\n",
    "    pfs = []\n",
    "    while (n % 2 == 0):\n",
    "        pfs.append(2)\n",
    "        n //= 2\n",
    "    p = 3\n",
    "    while p*p <= n:\n",
    "        while (n % p == 0):\n",
    "            pfs.append(p)\n",
    "            n //= p\n",
    "        p += 2\n",
    "    if n > 2:\n",
    "        pfs.append(n)\n",
    "\n",
    "    for p in reversed(pfs):\n",
    "        yield p\n",
    "    while True:\n",
    "        yield 1"
   ]
  },
  {
   "cell_type": "code",
   "execution_count": null,
   "id": "4e6d301a",
   "metadata": {},
   "outputs": [],
   "source": [
    "pf = primefactors(36)"
   ]
  },
  {
   "cell_type": "code",
   "execution_count": null,
   "id": "d97c74f7",
   "metadata": {},
   "outputs": [],
   "source": [
    "next(pf)"
   ]
  },
  {
   "cell_type": "code",
   "execution_count": null,
   "id": "3a5e0451",
   "metadata": {},
   "outputs": [],
   "source": [
    "pf = primefactors(7)\n",
    "assert next(pf) == 7\n",
    "assert next(pf) == 1\n",
    "assert next(pf) == 1"
   ]
  },
  {
   "cell_type": "code",
   "execution_count": null,
   "id": "864cf755",
   "metadata": {},
   "outputs": [],
   "source": [
    "from functools import reduce"
   ]
  },
  {
   "cell_type": "code",
   "execution_count": null,
   "id": "23de3856",
   "metadata": {},
   "outputs": [],
   "source": [
    "larger_primes = (73, 79, 83, 89, 97, 101, 103, 107, 109, 113, 127, 131, 137, 139, 149, 151, 157, 163, 167, 173)\n",
    "len(larger_primes)"
   ]
  },
  {
   "cell_type": "code",
   "execution_count": null,
   "id": "683b26d4",
   "metadata": {},
   "outputs": [],
   "source": [
    "20/2/5 == 20//2//5"
   ]
  },
  {
   "cell_type": "code",
   "execution_count": null,
   "id": "f50553c9",
   "metadata": {},
   "outputs": [],
   "source": [
    "mult = lambda it: reduce(lambda a,b: a*b, it)"
   ]
  },
  {
   "cell_type": "code",
   "execution_count": null,
   "id": "d14da096",
   "metadata": {},
   "outputs": [],
   "source": [
    "mult([3,4])"
   ]
  },
  {
   "cell_type": "code",
   "execution_count": null,
   "id": "85ca0c19",
   "metadata": {},
   "outputs": [],
   "source": [
    "mult(larger_primes[0:2])/73"
   ]
  },
  {
   "cell_type": "code",
   "execution_count": null,
   "id": "9647ae0e",
   "metadata": {},
   "outputs": [],
   "source": [
    "mult(larger_primes[0:4])"
   ]
  },
  {
   "cell_type": "code",
   "execution_count": null,
   "id": "bf51e290",
   "metadata": {},
   "outputs": [],
   "source": [
    "pf = primefactors(mult(larger_primes[0:4]))\n",
    "assert next(pf) == 89\n",
    "assert next(pf) == 83\n",
    "assert next(pf) == 79\n",
    "assert next(pf) == 73\n",
    "assert next(pf) == 1"
   ]
  },
  {
   "cell_type": "code",
   "execution_count": null,
   "id": "98c1361c",
   "metadata": {},
   "outputs": [],
   "source": [
    "lp = larger_primes\n",
    "\n",
    "pf = primefactors(mult(lp))\n",
    "\n",
    "for p in reversed(lp):\n",
    "    npf = next(pf)\n",
    "    assert npf == p, f'Next prime factor was {npf} but should have been {p}'\n",
    "    \n",
    "assert next(pf) == 1"
   ]
  },
  {
   "cell_type": "code",
   "execution_count": null,
   "id": "4348be09",
   "metadata": {},
   "outputs": [],
   "source": [
    "#export\n",
    "def FracHalves():\n",
    "    yield Fraction(1,1)\n",
    "    fh = [Fraction(1,1)]\n",
    "    fc = Fraction(1,2)\n",
    "    while True:\n",
    "        newf = []\n",
    "        for f in fh:\n",
    "            new = f - fc\n",
    "            yield new\n",
    "            newf.append(new)\n",
    "            \n",
    "        fc *= Fraction(1,2)\n",
    "        fh.extend(newf)"
   ]
  },
  {
   "cell_type": "code",
   "execution_count": null,
   "id": "4e1f5c91",
   "metadata": {},
   "outputs": [],
   "source": [
    "fh = FracHalves()\n",
    "assert next(fh) == 1\n",
    "assert next(fh) == Fraction(1,2)\n",
    "assert next(fh) == Fraction(3,4)\n",
    "assert next(fh) == Fraction(1,4)\n",
    "assert next(fh) == Fraction(7,8)\n",
    "assert next(fh) == Fraction(3,8)\n",
    "assert next(fh) == Fraction(5,8)"
   ]
  },
  {
   "cell_type": "code",
   "execution_count": null,
   "id": "7a2bba1e",
   "metadata": {},
   "outputs": [],
   "source": [
    "#export\n",
    "from functools import cache\n",
    "\n",
    "class Offset(Fraction):\n",
    "    def __new__(cls, *args):\n",
    "        f = Fraction(*args)\n",
    "        return Fraction.__new__(cls, f.numerator%f.denominator, f.denominator)\n",
    "    \n",
    "    @cache\n",
    "    def __lt__(self, other):\n",
    "        if self == other: return False\n",
    "        if self.denominator != other.denominator:\n",
    "            self_pf = primefactors(self.denominator)\n",
    "            other_pf = primefactors(other.denominator)\n",
    "            while True:\n",
    "                sp = next(self_pf)\n",
    "                op = next(other_pf)\n",
    "                if sp != op:\n",
    "                    return sp < op\n",
    "        else:\n",
    "            fh = FracHalves()\n",
    "            while True:\n",
    "                nfh = next(fh)\n",
    "                num = ceil(nfh * self.denominator) - 1\n",
    "                nf = Fraction(num, self.denominator)\n",
    "\n",
    "                if nf == self: return True\n",
    "                if nf == other: return False"
   ]
  },
  {
   "cell_type": "code",
   "execution_count": null,
   "id": "37a5e34c",
   "metadata": {},
   "outputs": [],
   "source": [
    "assert Offset(2,7) == Offset(2,7)\n",
    "assert Offset(8,7) == Offset(1,7)\n",
    "\n",
    "assert Offset(Fraction(2,7)) == Offset(Fraction(2,7))\n",
    "assert Offset(Fraction(8,7)) == Offset(Fraction(1,7))\n",
    "\n",
    "assert Offset(0) == 0\n",
    "\n",
    "assert Offset(-1,7) == Offset(6,7)\n",
    "\n",
    "assert not Offset(1,7) < Offset(8,7)"
   ]
  },
  {
   "cell_type": "code",
   "execution_count": null,
   "id": "a54582c9",
   "metadata": {},
   "outputs": [],
   "source": [
    "assert next(primefactors(1)) == 1\n",
    "assert next(primefactors(2)) == 2\n",
    "assert next(primefactors(3)) == 3"
   ]
  },
  {
   "cell_type": "code",
   "execution_count": null,
   "id": "7ff9959e",
   "metadata": {},
   "outputs": [],
   "source": [
    "pf = primefactors(Offset(0,1).denominator)\n",
    "assert next(pf) == 1\n",
    "assert next(pf) == 1"
   ]
  },
  {
   "cell_type": "code",
   "execution_count": null,
   "id": "d294b742",
   "metadata": {},
   "outputs": [],
   "source": [
    "pf = primefactors(Offset(1,2).denominator)\n",
    "assert next(pf) == 2\n",
    "assert next(pf) == 1"
   ]
  },
  {
   "cell_type": "code",
   "execution_count": null,
   "id": "31327ddd",
   "metadata": {},
   "outputs": [],
   "source": [
    "assert Offset(0,1) < Offset(1,2)\n",
    "assert Offset(1,2) < Offset(1,3)\n",
    "assert Offset(7,8) < Offset(2,3)\n",
    "assert Offset(4,5) < Offset(1,5)\n",
    "assert Offset(6,7) < Offset(3,7)\n",
    "assert Offset(3,7) < Offset(5,7)\n",
    "assert Offset(1,2*2*3) < Offset(1,2*2*2*5)"
   ]
  },
  {
   "cell_type": "code",
   "execution_count": null,
   "id": "cfea5f4c",
   "metadata": {},
   "outputs": [],
   "source": [
    "#export\n",
    "from fastcore.basics import listify"
   ]
  },
  {
   "cell_type": "code",
   "execution_count": null,
   "id": "14cc572f",
   "metadata": {},
   "outputs": [],
   "source": [
    "#export\n",
    "class AnnealingFitter:\n",
    "    def __init__(self, hooks_prefit=None, hooks_next_state=None):\n",
    "        self.hooks = dict()\n",
    "        self.hooks['prefit'] = listify(hooks_prefit)\n",
    "        self.hooks['next_state'] = listify(hooks_next_state)\n",
    "\n",
    "        self.fitted_state = None\n",
    "\n",
    "    def call_hooks(self, hook, **kwargs):\n",
    "        for h in self.hooks[hook]:\n",
    "            h(self)\n",
    "\n",
    "    def fit(self, iterations=100):\n",
    "        self.state = self.random_state()\n",
    "        self.call_hooks('prefit')\n",
    "        for iteration in range(iterations):\n",
    "            temp = self.temperature(iteration/iterations)\n",
    "            self.next_state = self.neighbour(self.state)\n",
    "            self.call_hooks('next_state')\n",
    "            state_loss, next_state_loss = self.losses(self.state, self.next_state)\n",
    "            if next_state_loss < state_loss or random.uniform(0,1) < math.exp((state_loss-next_state_loss)/temp):\n",
    "                self.state = self.next_state\n",
    "\n",
    "        self.fitted_state = self.state"
   ]
  },
  {
   "cell_type": "code",
   "execution_count": null,
   "id": "291a79ff",
   "metadata": {},
   "outputs": [],
   "source": [
    "#export\n",
    "class BeatFit(AnnealingFitter):\n",
    "    def __init__(self, lead=None):\n",
    "        super().__init__(\n",
    "            hooks_prefit=lambda self: self.tempos.append(self.tempo(self.state)),\n",
    "            hooks_next_state=lambda self: self.tempos.append(self.tempo(self.next_state))\n",
    "        )\n",
    "        \n",
    "        if lead is not None:\n",
    "            if not isinstance(lead, mido.MidiFile) or lead.type != 0:\n",
    "                raise ValueError(\"Lead part must be a type 0 mido.MidiFile\")\n",
    "            self.onsets = BeatFit.note_starts(lead)\n",
    "            # check lead contains at least two differing note starts\n",
    "            if len(set(self.onsets)) < 2:\n",
    "                raise ValueError(\"Lead part must contain at least two notes with differing start times\")\n",
    "\n",
    "        self.lead = lead\n",
    "\n",
    "        self._input_tempo = None\n",
    "        self.loss_map = []\n",
    "        self.tempos = []"
   ]
  },
  {
   "cell_type": "code",
   "execution_count": null,
   "id": "96744629",
   "metadata": {},
   "outputs": [],
   "source": [
    "[o for o in lead.tracks[0]]"
   ]
  },
  {
   "cell_type": "code",
   "execution_count": null,
   "id": "7dccaf6b",
   "metadata": {},
   "outputs": [],
   "source": [
    "c = lead.tracks[0]\n",
    "assert c is lead.tracks[0]"
   ]
  },
  {
   "cell_type": "code",
   "execution_count": null,
   "id": "5942ae10",
   "metadata": {},
   "outputs": [],
   "source": [
    "#export\n",
    "@patch(cls_method=True)\n",
    "def note_starts(cls:BeatFit, lead):\n",
    "    output = []\n",
    "    pos = 0\n",
    "    track = lead.tracks[0]\n",
    "    ppq = lead.ticks_per_beat\n",
    "    for m in track:\n",
    "        if m.type == 'note_on':\n",
    "            output.append(Fraction(pos, ppq))\n",
    "        pos += m.time\n",
    "    \n",
    "    return output"
   ]
  },
  {
   "cell_type": "code",
   "execution_count": null,
   "id": "c346d99d",
   "metadata": {},
   "outputs": [],
   "source": [
    "assert len(set(BeatFit.note_starts(lead))) > 1"
   ]
  },
  {
   "cell_type": "code",
   "execution_count": null,
   "id": "3266adc4",
   "metadata": {},
   "outputs": [],
   "source": [
    "failer = genome2midi('UDFBBS')\n",
    "failer"
   ]
  },
  {
   "cell_type": "code",
   "execution_count": null,
   "id": "081b3a26",
   "metadata": {},
   "outputs": [],
   "source": [
    "def _fail(): raise ValueError(\"foobar\")\n",
    "test_fail(_fail, contains=\"oba\")"
   ]
  },
  {
   "cell_type": "code",
   "execution_count": null,
   "id": "aebf227f",
   "metadata": {},
   "outputs": [],
   "source": [
    "test_fail(lambda: BeatFit(failer), contains=\"differ\")"
   ]
  },
  {
   "cell_type": "code",
   "execution_count": null,
   "id": "8e24068a",
   "metadata": {},
   "outputs": [],
   "source": [
    "del failer"
   ]
  },
  {
   "cell_type": "code",
   "execution_count": null,
   "id": "0874fe43",
   "metadata": {},
   "outputs": [],
   "source": [
    "mido.tempo2bpm(500000)"
   ]
  },
  {
   "cell_type": "code",
   "execution_count": null,
   "id": "48e3f73a",
   "metadata": {},
   "outputs": [],
   "source": [
    "#export\n",
    "@patch(as_prop=True)\n",
    "def input_tempo(self:BeatFit):\n",
    "    if self._input_tempo is None:\n",
    "        self._input_tempo = mido.tempo2bpm(500000)\n",
    "        for msg in self.lead:\n",
    "            # we assume just one tempo, so take the last one in the file\n",
    "            if msg.type == 'set_tempo':\n",
    "                self._input_tempo = mido.tempo2bpm(msg.tempo)\n",
    "    return self._input_tempo"
   ]
  },
  {
   "cell_type": "code",
   "execution_count": null,
   "id": "bd99c97f",
   "metadata": {},
   "outputs": [],
   "source": [
    "t = genome2midi('SUDFBBS')\n",
    "t"
   ]
  },
  {
   "cell_type": "code",
   "execution_count": null,
   "id": "91488dce",
   "metadata": {},
   "outputs": [],
   "source": [
    "t.tracks[0].insert(0, mido.MetaMessage('set_tempo', tempo=mido.bpm2tempo(140)))"
   ]
  },
  {
   "cell_type": "code",
   "execution_count": null,
   "id": "5855d154",
   "metadata": {},
   "outputs": [],
   "source": [
    "t"
   ]
  },
  {
   "cell_type": "code",
   "execution_count": null,
   "id": "59250865",
   "metadata": {},
   "outputs": [],
   "source": [
    "beatfit = BeatFit(t)\n",
    "test_close(beatfit.input_tempo, 140, eps=1e-3)"
   ]
  },
  {
   "cell_type": "markdown",
   "id": "fa2b7fca",
   "metadata": {},
   "source": [
    "Given note starts $a$ and $b$, new and old tempos are related by the divisor between those note points by\n",
    "\n",
    "$$ \\frac{1}{\\text{bpm}} = \\frac{1}{\\text{bpm}_{orig}} \\cdot \\frac{(b-a)}{\\text{div}}. $$\n",
    "\n",
    "So to calculate the divisor for the tempo we wish to have we can use\n",
    "\n",
    "$$ \\text{div} = \\frac{\\text{bpm}}{\\text{bpm}_{orig}} \\cdot (b-a). $$"
   ]
  },
  {
   "cell_type": "code",
   "execution_count": null,
   "id": "b6ec4bd7",
   "metadata": {},
   "outputs": [],
   "source": [
    "#export\n",
    "@patch\n",
    "def closest_div(self:BeatFit, a, b, targ_tempo, old_tempo=None):\n",
    "    if old_tempo is None:\n",
    "        old_tempo = self.input_tempo\n",
    "    return max(1, round(targ_tempo * (b-a) / old_tempo))"
   ]
  },
  {
   "cell_type": "code",
   "execution_count": null,
   "id": "fa45d222",
   "metadata": {},
   "outputs": [],
   "source": [
    "#export\n",
    "@patch\n",
    "def random_state(self:BeatFit, bpm_min=40, bpm_max=280):\n",
    "    a,b = tuple(random.sample(list(set(self.onsets)), 2))\n",
    "    \n",
    "    if a > b: a,b = b,a\n",
    "        \n",
    "    # choose a random tempo uniformly bewteen min and max\n",
    "    targ_tempo = random.uniform(bpm_min, bpm_max)\n",
    "    \n",
    "    # calculate the appropriate divisor to reach tempo, but use at least one\n",
    "    div = self.closest_div(a,b,targ_tempo)\n",
    "    \n",
    "    return a, b, div"
   ]
  },
  {
   "cell_type": "code",
   "execution_count": null,
   "id": "6691577d",
   "metadata": {},
   "outputs": [],
   "source": [
    "beatfit = BeatFit(lead)\n",
    "beatfit.random_state()"
   ]
  },
  {
   "cell_type": "code",
   "execution_count": null,
   "id": "88761011",
   "metadata": {},
   "outputs": [],
   "source": [
    "#export\n",
    "@patch\n",
    "def temperature(self:AnnealingFitter, p):\n",
    "    return math.exp(-5 * p)"
   ]
  },
  {
   "cell_type": "code",
   "execution_count": null,
   "id": "62af1329",
   "metadata": {},
   "outputs": [],
   "source": [
    "from matplotlib import pyplot as plt\n",
    "import numpy as np"
   ]
  },
  {
   "cell_type": "code",
   "execution_count": null,
   "id": "9c985b3b",
   "metadata": {},
   "outputs": [],
   "source": [
    "beatfit = BeatFit(lead)\n",
    "x = np.linspace(0,1,100)\n",
    "y = list(map(beatfit.temperature, x))\n",
    "\n",
    "plt.plot(x,y)"
   ]
  },
  {
   "cell_type": "markdown",
   "id": "086eb19b",
   "metadata": {},
   "source": [
    "$$ \\text{div}_{new} \\simeq \\frac{\\text{div} \\cdot (b-a_{new})}{b-a} $$"
   ]
  },
  {
   "cell_type": "code",
   "execution_count": null,
   "id": "db10fe58",
   "metadata": {},
   "outputs": [],
   "source": [
    "#export\n",
    "@patch\n",
    "def neighbour(self:BeatFit, state):\n",
    "    a,b,div = state\n",
    "\n",
    "    opts = list(set(self.onsets) - {a,b})\n",
    "    \n",
    "    def trans_a(a,b,div):\n",
    "        a_new = random.choice(opts)\n",
    "        div_new = max(1, round(div * abs(b-a_new) / abs(b-a)))\n",
    "        return a_new, b, div_new\n",
    "    def trans_b(a,b,div): \n",
    "        b,a,div = trans_a(b,a,div)\n",
    "        return a,b,div\n",
    "    trans_div = lambda a,b,div: (a, b, 2 if div == 1 else div + random.choice([-1,1]))\n",
    "        \n",
    "    if len(opts) < 1:\n",
    "        return trans_div(a,b,div)\n",
    "    \n",
    "    trans = random.choice([trans_a, trans_b, trans_div])\n",
    "    a,b,div = trans(a,b,div)\n",
    "    if a > b: a,b = b,a\n",
    "    return a,b,div"
   ]
  },
  {
   "cell_type": "code",
   "execution_count": null,
   "id": "844b134a",
   "metadata": {},
   "outputs": [],
   "source": [
    "beatfit = BeatFit(lead)\n",
    "assert all([beatfit.neighbour((Fraction(0, 1), Fraction(2, 1), 4))[2] > 2 for _ in range(20)])"
   ]
  },
  {
   "cell_type": "markdown",
   "id": "1c63ab9e",
   "metadata": {},
   "source": [
    "**THIS CALCULATES TRANFORMATION**"
   ]
  },
  {
   "cell_type": "code",
   "execution_count": null,
   "id": "421b7dde",
   "metadata": {},
   "outputs": [],
   "source": [
    "#export\n",
    "@patch\n",
    "def transformed_onsets(self:BeatFit, state):\n",
    "    a,b,div = state\n",
    "    assert a < b\n",
    "    return [(n-a) * div / (b-a) for n in self.onsets]\n",
    "\n",
    "@patch\n",
    "def offsets(self:BeatFit, state):\n",
    "    return [Offset(n) for n in self.transformed_onsets(state)]"
   ]
  },
  {
   "cell_type": "code",
   "execution_count": null,
   "id": "2fe8cd38",
   "metadata": {},
   "outputs": [],
   "source": [
    "#export\n",
    "@patch\n",
    "def tempo(self:BeatFit, state=None):\n",
    "    if state is None:\n",
    "        state = self.fitted_state\n",
    "    a,b,div = state\n",
    "    assert a < b\n",
    "    return self.input_tempo * div / (b-a)"
   ]
  },
  {
   "cell_type": "code",
   "execution_count": null,
   "id": "86acd3ff",
   "metadata": {},
   "outputs": [],
   "source": [
    "math.exp(7e2)"
   ]
  },
  {
   "cell_type": "markdown",
   "id": "ac435897",
   "metadata": {},
   "source": [
    "$ \\frac{t-280}{4} < 700 $ when $ t-280 < 2800 $ when $ t < 3080 $."
   ]
  },
  {
   "cell_type": "code",
   "execution_count": null,
   "id": "66e3aa01",
   "metadata": {},
   "outputs": [],
   "source": [
    "#export\n",
    "@patch\n",
    "def losses(self:BeatFit, state, next_state):\n",
    "    # update losses map with offsets from states\n",
    "#     self.loss_map = sorted(list(set(self.loss_map)|set(self.offsets(state))|set(self.offsets(next_state))))\n",
    "    for ss in [state, next_state]:\n",
    "        for s in self.offsets(ss):\n",
    "            if s not in self.loss_map:\n",
    "                self.loss_map.append(s)\n",
    "#     self.loss_map.extend(self.offsets(state))\n",
    "#     self.loss_map.extend(self.offsets(next_state))\n",
    "    self.loss_map.sort()\n",
    "    \n",
    "    # map offsets to losses, add tempo loss\n",
    "    offs_lossf = lambda state: sum([self.loss_map.index(o) for o in self.offsets(state)])\n",
    "    tempo_lossf = (lambda state: math.exp((self.tempo(state)-280)/4) if self.tempo(state)<3080 else\n",
    "        math.exp((3080-280)/4) + (self.tempo(state)-3080) * math.exp(105) / 4)\n",
    "    state_loss = offs_lossf(state) + tempo_lossf(state)\n",
    "    next_state_loss = offs_lossf(next_state) + tempo_lossf(next_state)\n",
    "    return state_loss, next_state_loss"
   ]
  },
  {
   "cell_type": "code",
   "execution_count": null,
   "id": "c60ad139",
   "metadata": {},
   "outputs": [],
   "source": [
    "beatfit = BeatFit(lead)\n",
    "beatfit.fit()\n",
    "beatfit.fitted_state"
   ]
  },
  {
   "cell_type": "code",
   "execution_count": null,
   "id": "0f5bb472",
   "metadata": {},
   "outputs": [],
   "source": [
    "beatfit.tempo(beatfit.fitted_state)"
   ]
  },
  {
   "cell_type": "code",
   "execution_count": null,
   "id": "5d354030",
   "metadata": {},
   "outputs": [],
   "source": [
    "#export\n",
    "from dataclasses import dataclass\n",
    "\n",
    "@dataclass\n",
    "class NoteOn:\n",
    "    pitch: int\n",
    "    time: Fraction\n",
    "        \n",
    "@dataclass\n",
    "class NoteOff:\n",
    "    pitch: int\n",
    "    time: Fraction\n",
    "\n",
    "@patch(as_prop=True)\n",
    "def complete(self:BeatFit):\n",
    "    ppq = self.lead.ticks_per_beat\n",
    "    lead_frac = []\n",
    "    pos = 0\n",
    "    for m in self.lead.tracks[0]:\n",
    "        pos += m.time\n",
    "        if m.type == 'note_on':\n",
    "            lead_frac.append(NoteOn(m.note, Fraction(pos, ppq)))\n",
    "        if m.type == 'note_off':\n",
    "            lead_frac.append(NoteOff(m.note, Fraction(pos, ppq)))\n",
    "        \n",
    "    a,b,div = self.fitted_state\n",
    "    \n",
    "    transformed_events = []\n",
    "    for e in lead_frac:\n",
    "        time = (e.time-a) * div / (b-a)\n",
    "        transformed_events.append(NoteOn(e.pitch, time) if isinstance(e, NoteOn) else NoteOff(e.pitch, time))\n",
    "        \n",
    "    anacrusis = floor(transformed_events[0].time) - 4\n",
    "    length = ceil(transformed_events[-1].time) - anacrusis\n",
    "    \n",
    "    hihathit = [mido.Message('note_on', note=42, channel=9, time=0), \n",
    "                mido.Message('note_off', note=42, channel=9, time=ppq)]\n",
    "    \n",
    "    midifile = mido.MidiFile(type=1)\n",
    "    \n",
    "    pulse = mido.MidiTrack()\n",
    "    midifile.tracks.append(pulse)\n",
    "    \n",
    "    # append tempo to pulse track\n",
    "    pulse.append(mido.MetaMessage('set_tempo', tempo=mido.bpm2tempo(self.tempo())))\n",
    "    pulse.extend(hihathit*length)\n",
    "    \n",
    "    trasf_lead = mido.MidiTrack()\n",
    "    midifile.tracks.append(trasf_lead)\n",
    "\n",
    "    pos = anacrusis\n",
    "    for te in transformed_events:\n",
    "        trasf_lead.append(mido.Message('note_on' if isinstance(te, NoteOn) else 'note_off', note=te.pitch, \n",
    "                                       time=round((te.time-pos)*ppq)))\n",
    "        pos = te.time\n",
    "\n",
    "    return midifile"
   ]
  },
  {
   "cell_type": "code",
   "execution_count": null,
   "id": "443d3a93",
   "metadata": {},
   "outputs": [],
   "source": [
    "beatfit.lead"
   ]
  },
  {
   "cell_type": "code",
   "execution_count": null,
   "id": "17ff3ddf",
   "metadata": {},
   "outputs": [],
   "source": [
    "beatfit.complete"
   ]
  },
  {
   "cell_type": "code",
   "execution_count": null,
   "id": "c902b703",
   "metadata": {},
   "outputs": [],
   "source": [
    "#export\n",
    "outport = mido.open_output('mido_out', virtual=True)\n",
    "\n",
    "def play(midifile):\n",
    "    for m in midifile.play():\n",
    "        outport.send(m)"
   ]
  },
  {
   "cell_type": "code",
   "execution_count": null,
   "id": "dfbc4d65",
   "metadata": {},
   "outputs": [],
   "source": [
    "play(beatfit.lead)"
   ]
  },
  {
   "cell_type": "code",
   "execution_count": null,
   "id": "8b23b30e",
   "metadata": {},
   "outputs": [],
   "source": [
    "play(beatfit.complete)"
   ]
  },
  {
   "cell_type": "code",
   "execution_count": null,
   "id": "421448c7",
   "metadata": {},
   "outputs": [],
   "source": [
    "plt.plot(beatfit.tempos)\n",
    "plt.show()"
   ]
  },
  {
   "cell_type": "markdown",
   "id": "c388d552",
   "metadata": {},
   "source": [
    "This might need some fine-tuning in terms of initial temperature, weighting of losses, ..."
   ]
  },
  {
   "cell_type": "code",
   "execution_count": null,
   "id": "a723c259",
   "metadata": {},
   "outputs": [],
   "source": []
  }
 ],
 "metadata": {
  "kernelspec": {
   "display_name": "Python 3 (ipykernel)",
   "language": "python",
   "name": "python3"
  }
 },
 "nbformat": 4,
 "nbformat_minor": 5
}
