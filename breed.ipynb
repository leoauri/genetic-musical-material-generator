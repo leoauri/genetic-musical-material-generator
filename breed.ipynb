{
 "cells": [
  {
   "cell_type": "code",
   "execution_count": null,
   "id": "edaaf8f4",
   "metadata": {},
   "outputs": [],
   "source": [
    "#default_exp breed"
   ]
  },
  {
   "cell_type": "code",
   "execution_count": 26,
   "id": "b1b5abea",
   "metadata": {},
   "outputs": [],
   "source": [
    "#export\n",
    "from random import random, choices"
   ]
  },
  {
   "cell_type": "code",
   "execution_count": 3,
   "id": "f4d28b43",
   "metadata": {},
   "outputs": [],
   "source": [
    "from genetic_musical_generator.random_genome_to_midi import random_genome"
   ]
  },
  {
   "cell_type": "code",
   "execution_count": 18,
   "id": "09e16547",
   "metadata": {},
   "outputs": [
    {
     "data": {
      "text/plain": [
       "('UFSDSDUBBFSSSUFUDUFU', 'DFDSFSBUSDSFDDDBDDSF')"
      ]
     },
     "execution_count": 18,
     "metadata": {},
     "output_type": "execute_result"
    }
   ],
   "source": [
    "a = random_genome(20)\n",
    "b = random_genome(20)\n",
    "a,b"
   ]
  },
  {
   "cell_type": "code",
   "execution_count": 20,
   "id": "e09e9572",
   "metadata": {},
   "outputs": [],
   "source": [
    "#export\n",
    "def crossover(a, b, swap_prob = 0.3, throw_prob = 0.3):\n",
    "    a = iter(a)\n",
    "    b = iter(b)\n",
    "    ptr = a\n",
    "    \n",
    "    child = ''\n",
    "    \n",
    "    try:\n",
    "        while True:\n",
    "            if random()<swap_prob:\n",
    "                ptr = b if ptr is a else a\n",
    "                while random()<throw_prob:\n",
    "                    next(ptr)\n",
    "            child += next(ptr)\n",
    "\n",
    "    except StopIteration:\n",
    "        return child"
   ]
  },
  {
   "cell_type": "code",
   "execution_count": 21,
   "id": "cf3840a0",
   "metadata": {},
   "outputs": [
    {
     "data": {
      "text/plain": [
       "'UDFSDDSDUSFSBBBFSSUUFSUDUFUSFDDDB'"
      ]
     },
     "execution_count": 21,
     "metadata": {},
     "output_type": "execute_result"
    }
   ],
   "source": [
    "crossover(a,b)"
   ]
  },
  {
   "cell_type": "code",
   "execution_count": 22,
   "id": "f04186ee",
   "metadata": {},
   "outputs": [
    {
     "data": {
      "text/plain": [
       "'AAAABBABBBAB'"
      ]
     },
     "execution_count": 22,
     "metadata": {},
     "output_type": "execute_result"
    }
   ],
   "source": [
    "crossover('AAAAAAAA','BBBBBBBB')"
   ]
  },
  {
   "cell_type": "code",
   "execution_count": 36,
   "id": "d643c928",
   "metadata": {},
   "outputs": [],
   "source": [
    "#export\n",
    "def mutate(genome, skip_prob=0.05, change_prob=0.07, add_prob=0.05, alphabet='UDFBS'):\n",
    "    copy_prob = 1-skip_prob-change_prob-add_prob\n",
    "    output = ''\n",
    "    for g in genome:\n",
    "        transformation = choices([\n",
    "            lambda l: l,\n",
    "            lambda l: '',\n",
    "            lambda l: choices(alphabet)[0],\n",
    "            lambda l: l+choices(alphabet)[0]\n",
    "        ], weights=[copy_prob,skip_prob,change_prob,add_prob])[0]\n",
    "        output += transformation(g)\n",
    "    return output"
   ]
  },
  {
   "cell_type": "code",
   "execution_count": 45,
   "id": "cf023d69",
   "metadata": {},
   "outputs": [
    {
     "data": {
      "text/plain": [
       "'AAAAABU'"
      ]
     },
     "execution_count": 45,
     "metadata": {},
     "output_type": "execute_result"
    }
   ],
   "source": [
    "mutate('AAAAAA')"
   ]
  },
  {
   "cell_type": "code",
   "execution_count": 46,
   "id": "6d8d583d",
   "metadata": {},
   "outputs": [],
   "source": [
    "#export\n",
    "mutate_crossover = lambda a,b: mutate(crossover(a,b))"
   ]
  },
  {
   "cell_type": "code",
   "execution_count": 50,
   "id": "5024724e",
   "metadata": {},
   "outputs": [
    {
     "data": {
      "text/plain": [
       "'BAAAABBBBFAF'"
      ]
     },
     "execution_count": 50,
     "metadata": {},
     "output_type": "execute_result"
    }
   ],
   "source": [
    "mutate_crossover('AAAAAAAA','BBBBBBBB')"
   ]
  },
  {
   "cell_type": "code",
   "execution_count": null,
   "id": "c51e8c2b",
   "metadata": {},
   "outputs": [],
   "source": []
  }
 ],
 "metadata": {
  "kernelspec": {
   "display_name": "Python 3 (ipykernel)",
   "language": "python",
   "name": "python3"
  },
  "language_info": {
   "codemirror_mode": {
    "name": "ipython",
    "version": 3
   },
   "file_extension": ".py",
   "mimetype": "text/x-python",
   "name": "python",
   "nbconvert_exporter": "python",
   "pygments_lexer": "ipython3",
   "version": "3.10.4"
  }
 },
 "nbformat": 4,
 "nbformat_minor": 5
}
