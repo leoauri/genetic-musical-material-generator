{
 "cells": [
  {
   "cell_type": "code",
   "execution_count": null,
   "id": "183e595f",
   "metadata": {},
   "outputs": [],
   "source": [
    "%load_ext autoreload\n",
    "%autoreload 2"
   ]
  },
  {
   "cell_type": "code",
   "execution_count": null,
   "id": "aaad320c",
   "metadata": {},
   "outputs": [],
   "source": [
    "import mido\n",
    "from genetic_musical_generator.random_genome_to_midi import random_genome, genome2midi\n",
    "from genetic_musical_generator.breed import mutate_crossover\n",
    "\n",
    "from dataclasses import dataclass\n",
    "from typing import Optional\n",
    "from random import choices\n",
    "from time import sleep"
   ]
  },
  {
   "cell_type": "code",
   "execution_count": null,
   "id": "0fdcdd94",
   "metadata": {},
   "outputs": [],
   "source": [
    "outport = mido.open_output('mido_out', virtual=True)"
   ]
  },
  {
   "cell_type": "code",
   "execution_count": null,
   "id": "a2031fe6",
   "metadata": {},
   "outputs": [],
   "source": [
    "def hear(genome):\n",
    "    print(genome)\n",
    "    song = genome2midi(genome)\n",
    "    for m in song.play():\n",
    "        outport.send(m)"
   ]
  },
  {
   "cell_type": "code",
   "execution_count": null,
   "id": "155c935f",
   "metadata": {},
   "outputs": [],
   "source": [
    "e = random_genome(40)\n",
    "e"
   ]
  },
  {
   "cell_type": "code",
   "execution_count": null,
   "id": "742bbc77",
   "metadata": {},
   "outputs": [],
   "source": [
    "hear(e)"
   ]
  },
  {
   "cell_type": "code",
   "execution_count": null,
   "id": "8b7c7bff",
   "metadata": {},
   "outputs": [],
   "source": [
    "@dataclass\n",
    "class Individual:\n",
    "    genome: str\n",
    "    rating: Optional[float] = None"
   ]
  },
  {
   "cell_type": "code",
   "execution_count": null,
   "id": "54bd75fe",
   "metadata": {},
   "outputs": [],
   "source": [
    "pop_size = 10"
   ]
  },
  {
   "cell_type": "code",
   "execution_count": null,
   "id": "cad86028",
   "metadata": {},
   "outputs": [],
   "source": [
    "population = []"
   ]
  },
  {
   "cell_type": "code",
   "execution_count": null,
   "id": "311ab23a",
   "metadata": {
    "scrolled": true
   },
   "outputs": [],
   "source": [
    "if len(population)<pop_size:\n",
    "    population.append(Individual(random_genome(40)))\n",
    "else:\n",
    "    try:\n",
    "        a = b = choices([p.genome for p in population], weights=[p.rating for p in population])[0]\n",
    "        while a == b:\n",
    "            b = choices([p.genome for p in population], weights=[p.rating for p in population])[0]\n",
    "        population.append(Individual(mutate_crossover(a,b)))\n",
    "    except TypeError:\n",
    "        # unrated example present, have to rate first\n",
    "        pass\n",
    "\n",
    "for p in population:\n",
    "    while p.rating is None:\n",
    "        try:\n",
    "            hear(p.genome)\n",
    "            p.rating = float(input('Please rate (zero or less to kill): '))\n",
    "        except ValueError:\n",
    "            pass\n",
    "        print()\n",
    "\n",
    "# remove unfit individuals\n",
    "population = [p for p in population if p.rating>0]\n",
    "\n",
    "# remove least fit individuals down to population size\n",
    "if len(population)>pop_size:\n",
    "    population = sorted(population, key=lambda p: -p.rating)[:pop_size]"
   ]
  },
  {
   "cell_type": "code",
   "execution_count": null,
   "id": "18007515",
   "metadata": {},
   "outputs": [],
   "source": [
    "population"
   ]
  },
  {
   "cell_type": "code",
   "execution_count": null,
   "id": "5c13c9e4",
   "metadata": {},
   "outputs": [],
   "source": [
    "for p in population:\n",
    "    hear(p.genome)\n",
    "    sleep(4)"
   ]
  },
  {
   "cell_type": "markdown",
   "id": "c5d17fe7",
   "metadata": {},
   "source": [
    "- Züchte: choosing \n",
    "- Anottating : keep notes on the individuals\n",
    "- How do breeders really do it?\n",
    "- Precious individuals\n",
    "\n",
    "is there a diff between musical trained results?\n",
    "\n",
    "a few stations\n",
    "\n",
    "difference different people/sessions...\n",
    "\n",
    "Style preference or musical experience better predictor of \"quality\"?"
   ]
  },
  {
   "cell_type": "code",
   "execution_count": null,
   "id": "9de365af",
   "metadata": {},
   "outputs": [],
   "source": []
  }
 ],
 "metadata": {
  "kernelspec": {
   "display_name": "Python 3 (ipykernel)",
   "language": "python",
   "name": "python3"
  },
  "language_info": {
   "codemirror_mode": {
    "name": "ipython",
    "version": 3
   },
   "file_extension": ".py",
   "mimetype": "text/x-python",
   "name": "python",
   "nbconvert_exporter": "python",
   "pygments_lexer": "ipython3",
   "version": "3.10.4"
  }
 },
 "nbformat": 4,
 "nbformat_minor": 5
}
