{
 "cells": [
  {
   "cell_type": "code",
   "execution_count": 1,
   "id": "2a815e42",
   "metadata": {},
   "outputs": [],
   "source": [
    "from genetic_musical_generator.random_genome_to_midi import random_genome, genome2midi"
   ]
  },
  {
   "cell_type": "code",
   "execution_count": 2,
   "id": "e194a806",
   "metadata": {},
   "outputs": [
    {
     "data": {
      "text/plain": [
       "MidiFile(type=0, ticks_per_beat=480, tracks=[\n",
       "  MidiTrack([\n",
       "    Message('note_on', channel=0, note=62, velocity=64, time=480),\n",
       "    Message('note_off', channel=0, note=62, velocity=64, time=0),\n",
       "    Message('note_on', channel=0, note=61, velocity=64, time=0),\n",
       "    Message('note_on', channel=0, note=62, velocity=64, time=0),\n",
       "    Message('note_on', channel=0, note=60, velocity=64, time=480),\n",
       "    Message('note_off', channel=0, note=61, velocity=64, time=0),\n",
       "    Message('note_off', channel=0, note=62, velocity=64, time=0),\n",
       "    Message('note_off', channel=0, note=60, velocity=64, time=0),\n",
       "    Message('note_on', channel=0, note=61, velocity=64, time=0),\n",
       "    Message('note_on', channel=0, note=61, velocity=64, time=0),\n",
       "    Message('note_on', channel=0, note=60, velocity=64, time=480),\n",
       "    Message('note_off', channel=0, note=61, velocity=64, time=0),\n",
       "    Message('note_off', channel=0, note=61, velocity=64, time=0),\n",
       "    Message('note_off', channel=0, note=60, velocity=64, time=0),\n",
       "    Message('note_on', channel=0, note=60, velocity=64, time=0),\n",
       "    Message('note_on', channel=0, note=61, velocity=64, time=480),\n",
       "    Message('note_off', channel=0, note=60, velocity=64, time=0),\n",
       "    Message('note_off', channel=0, note=61, velocity=64, time=0)])\n",
       "])"
      ]
     },
     "execution_count": 2,
     "metadata": {},
     "output_type": "execute_result"
    }
   ],
   "source": [
    "genome2midi(random_genome(40))"
   ]
  },
  {
   "cell_type": "code",
   "execution_count": null,
   "id": "95ddf3a6",
   "metadata": {},
   "outputs": [],
   "source": []
  }
 ],
 "metadata": {
  "kernelspec": {
   "display_name": "Python 3 (ipykernel)",
   "language": "python",
   "name": "python3"
  },
  "language_info": {
   "codemirror_mode": {
    "name": "ipython",
    "version": 3
   },
   "file_extension": ".py",
   "mimetype": "text/x-python",
   "name": "python",
   "nbconvert_exporter": "python",
   "pygments_lexer": "ipython3",
   "version": "3.10.4"
  }
 },
 "nbformat": 4,
 "nbformat_minor": 5
}
