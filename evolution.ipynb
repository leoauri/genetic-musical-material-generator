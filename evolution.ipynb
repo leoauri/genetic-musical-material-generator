{
 "cells": [
  {
   "cell_type": "code",
   "execution_count": null,
   "id": "86ebd411",
   "metadata": {},
   "outputs": [],
   "source": [
    "%load_ext autoreload\n",
    "%autoreload 2"
   ]
  },
  {
   "cell_type": "code",
   "execution_count": null,
   "id": "2ca0af3a",
   "metadata": {},
   "outputs": [],
   "source": [
    "# default_exp utility"
   ]
  },
  {
   "cell_type": "code",
   "execution_count": null,
   "id": "e3b3666b",
   "metadata": {},
   "outputs": [],
   "source": [
    "#all_norun"
   ]
  },
  {
   "cell_type": "code",
   "execution_count": null,
   "id": "aaad320c",
   "metadata": {},
   "outputs": [],
   "source": [
    "from genetic_musical_generator.random_genome_to_midi import random_genome\n",
    "from genetic_musical_generator.breed import mutate_crossover, mutate, crossover\n",
    "\n",
    "from dataclasses import dataclass\n",
    "from typing import Optional\n",
    "from random import choices\n",
    "from time import sleep"
   ]
  },
  {
   "cell_type": "code",
   "execution_count": null,
   "id": "5fc220c7",
   "metadata": {},
   "outputs": [],
   "source": [
    "#export\n",
    "from genetic_musical_generator.random_genome_to_midi import genome2midi\n",
    "import mido\n",
    "\n",
    "outport = mido.open_output('mido_out', virtual=True)"
   ]
  },
  {
   "cell_type": "code",
   "execution_count": null,
   "id": "7b403530",
   "metadata": {},
   "outputs": [],
   "source": [
    "import pickle\n",
    "from pathlib import Path"
   ]
  },
  {
   "cell_type": "code",
   "execution_count": null,
   "id": "56134050",
   "metadata": {},
   "outputs": [],
   "source": [
    "savedir = Path('populations')\n",
    "savedir.mkdir(exist_ok=True)"
   ]
  },
  {
   "cell_type": "code",
   "execution_count": null,
   "id": "a2031fe6",
   "metadata": {},
   "outputs": [],
   "source": [
    "#export\n",
    "def hear(genome):\n",
    "    print(genome)\n",
    "    song = genome2midi(genome)\n",
    "    for m in song.play():\n",
    "        outport.send(m)"
   ]
  },
  {
   "cell_type": "code",
   "execution_count": null,
   "id": "155c935f",
   "metadata": {},
   "outputs": [],
   "source": [
    "e = random_genome(40)\n",
    "e"
   ]
  },
  {
   "cell_type": "code",
   "execution_count": null,
   "id": "742bbc77",
   "metadata": {},
   "outputs": [],
   "source": [
    "hear(e)"
   ]
  },
  {
   "cell_type": "code",
   "execution_count": null,
   "id": "8b7c7bff",
   "metadata": {},
   "outputs": [],
   "source": [
    "@dataclass\n",
    "class Individual:\n",
    "    genome: str\n",
    "    rating: Optional[float] = None"
   ]
  },
  {
   "cell_type": "code",
   "execution_count": null,
   "id": "50b47c03",
   "metadata": {},
   "outputs": [],
   "source": [
    "with (savedir/'leo_02.pop').open('rb') as f:\n",
    "    population = pickle.load(f)\n",
    "population"
   ]
  },
  {
   "cell_type": "code",
   "execution_count": null,
   "id": "cad86028",
   "metadata": {},
   "outputs": [],
   "source": [
    "population = []"
   ]
  },
  {
   "cell_type": "code",
   "execution_count": null,
   "id": "54bd75fe",
   "metadata": {},
   "outputs": [],
   "source": [
    "pop_size = 10"
   ]
  },
  {
   "cell_type": "code",
   "execution_count": null,
   "id": "a07981ed",
   "metadata": {},
   "outputs": [],
   "source": [
    "expand = False\n",
    "\n",
    "if len(population)<pop_size:\n",
    "    population.append(Individual(random_genome(40)))\n",
    "else:\n",
    "    try:\n",
    "        a = b = choices([p.genome for p in population], weights=[p.rating for p in population])[0]\n",
    "        while a == b:\n",
    "            b = choices([p.genome for p in population], weights=[p.rating for p in population])[0]\n",
    "        # population.append(Individual(mutate_crossover(a,b)))\n",
    "        population.append(Individual(mutate(crossover(a,b), skip_prob=0.01, change_prob=0.02, add_prob=0.01)))\n",
    "    except TypeError:\n",
    "        # unrated example present, have to rate first\n",
    "        pass\n",
    "\n",
    "for p in population:\n",
    "    while p.rating is None:\n",
    "        try:\n",
    "            hear(p.genome)\n",
    "            ui = input('Please rate (zero or less to kill, prefix k to keep): ')\n",
    "            if len(ui) > 0 and ui[0] == 'k':\n",
    "                expand = True\n",
    "                ui = ui[1:]\n",
    "            p.rating = float(ui)\n",
    "            if expand:\n",
    "                pop_size += 1\n",
    "                expand = False\n",
    "        except ValueError:\n",
    "            pass\n",
    "        print()\n",
    "\n",
    "# remove unfit individuals\n",
    "population = [p for p in population if p.rating>0]\n",
    "\n",
    "# remove least fit individuals down to population size\n",
    "if len(population)>pop_size:\n",
    "    population = sorted(population, key=lambda p: -p.rating)[:pop_size]"
   ]
  },
  {
   "cell_type": "code",
   "execution_count": null,
   "id": "20dcf81b",
   "metadata": {},
   "outputs": [],
   "source": [
    "population"
   ]
  },
  {
   "cell_type": "code",
   "execution_count": null,
   "id": "3b356dc7",
   "metadata": {},
   "outputs": [],
   "source": [
    "from genetic_musical_generator.beat_fit import BeatFit, play"
   ]
  },
  {
   "cell_type": "code",
   "execution_count": null,
   "id": "65383bb4",
   "metadata": {},
   "outputs": [],
   "source": [
    "beatfit = BeatFit(genome2midi(population[9].genome))\n",
    "beatfit.fit(iterations=100)"
   ]
  },
  {
   "cell_type": "code",
   "execution_count": null,
   "id": "eb6765ce",
   "metadata": {},
   "outputs": [],
   "source": [
    "play(beatfit.complete)"
   ]
  },
  {
   "cell_type": "code",
   "execution_count": null,
   "id": "f1eb901c",
   "metadata": {},
   "outputs": [],
   "source": [
    "beatfit.tempos"
   ]
  },
  {
   "cell_type": "code",
   "execution_count": null,
   "id": "72236f75",
   "metadata": {},
   "outputs": [],
   "source": [
    "beatfit.loss_map"
   ]
  },
  {
   "cell_type": "code",
   "execution_count": null,
   "id": "4540cbb9",
   "metadata": {},
   "outputs": [],
   "source": [
    "for p in sorted(population, key=lambda p: p.rating)[8:]:\n",
    "    beatfit = BeatFit(genome2midi(p.genome))\n",
    "    beatfit.fit(iterations=100)\n",
    "    play(beatfit.complete)"
   ]
  },
  {
   "cell_type": "code",
   "execution_count": null,
   "id": "4ca1bc5b",
   "metadata": {},
   "outputs": [],
   "source": [
    "for p in sorted(population, key=lambda p: p.rating):\n",
    "    hear(p.genome)\n",
    "    sleep(4)"
   ]
  },
  {
   "cell_type": "code",
   "execution_count": null,
   "id": "679e7198",
   "metadata": {},
   "outputs": [],
   "source": [
    "with (savedir/'temp.pop').open('wb') as f:\n",
    "    pickle.dump(population, f)\n",
    "\n",
    "with (savedir/'temp.pop').open('rb') as f:\n",
    "    assert population == pickle.load(f)"
   ]
  },
  {
   "cell_type": "markdown",
   "id": "c5d17fe7",
   "metadata": {},
   "source": [
    "- Züchte: choosing \n",
    "- Anottating : keep notes on the individuals\n",
    "- How do breeders really do it?\n",
    "- Precious individuals\n",
    "\n",
    "is there a diff between musical trained results?\n",
    "\n",
    "a few stations\n",
    "\n",
    "difference different people/sessions...\n",
    "\n",
    "Style preference or musical experience better predictor of \"quality\"?\n",
    "\n",
    "---\n",
    "\n",
    "\"Music student\" idea - one lesson a week, practice  :DD\n",
    "\n",
    "Mid term concert  :D"
   ]
  },
  {
   "cell_type": "code",
   "execution_count": null,
   "id": "9de365af",
   "metadata": {},
   "outputs": [],
   "source": []
  }
 ],
 "metadata": {
  "kernelspec": {
   "display_name": "Python 3 (ipykernel)",
   "language": "python",
   "name": "python3"
  }
 },
 "nbformat": 4,
 "nbformat_minor": 5
}
