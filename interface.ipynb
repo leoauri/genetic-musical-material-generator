{
 "cells": [
  {
   "cell_type": "code",
   "execution_count": null,
   "id": "bf117682",
   "metadata": {},
   "outputs": [],
   "source": [
    "%load_ext autoreload\n",
    "%autoreload 2"
   ]
  },
  {
   "cell_type": "code",
   "execution_count": null,
   "id": "f288d856",
   "metadata": {},
   "outputs": [],
   "source": [
    "%%html\n",
    "<style>\n",
    ".individual-selected {\n",
    "    background-color: #90ee90;\n",
    "}\n",
    "</style>"
   ]
  },
  {
   "cell_type": "code",
   "execution_count": null,
   "id": "98c461dd",
   "metadata": {},
   "outputs": [],
   "source": [
    "import ipywidgets as widg"
   ]
  },
  {
   "cell_type": "code",
   "execution_count": null,
   "id": "6ebd61bc",
   "metadata": {},
   "outputs": [],
   "source": [
    "import pickle\n",
    "from pathlib import Path"
   ]
  },
  {
   "cell_type": "code",
   "execution_count": null,
   "id": "dde20c8a",
   "metadata": {},
   "outputs": [],
   "source": [
    "from genetic_musical_generator.random_genome_to_midi import random_genome, genome2midi\n",
    "from genetic_musical_generator.beat_fit import BeatFit, Offset, play, outport\n",
    "from genetic_musical_generator.bass_fit import BassFit"
   ]
  },
  {
   "cell_type": "code",
   "execution_count": null,
   "id": "a93fa77a",
   "metadata": {},
   "outputs": [],
   "source": [
    "from dataclasses import dataclass\n",
    "from typing import Optional"
   ]
  },
  {
   "cell_type": "code",
   "execution_count": null,
   "id": "a89d591f",
   "metadata": {},
   "outputs": [],
   "source": [
    "@dataclass\n",
    "class Individual:\n",
    "    genome: str\n",
    "    rating: Optional[float] = None\n",
    "    beat: Optional[BeatFit] = None\n",
    "    bass: Optional[BassFit] = None\n",
    "    generation: int = 0"
   ]
  },
  {
   "cell_type": "code",
   "execution_count": null,
   "id": "b0df80f2",
   "metadata": {},
   "outputs": [],
   "source": [
    "savedir = Path('populations')\n",
    "savedir.mkdir(exist_ok=True)\n",
    "savepath = savedir/'impact_exhibit.pop'"
   ]
  },
  {
   "cell_type": "code",
   "execution_count": null,
   "id": "86efebcf",
   "metadata": {},
   "outputs": [],
   "source": [
    "if savepath.exists():\n",
    "    with savepath.open('rb') as f:\n",
    "        population = pickle.load(f)\n",
    "else:\n",
    "    population = []"
   ]
  },
  {
   "cell_type": "code",
   "execution_count": null,
   "id": "6b2c0efd",
   "metadata": {},
   "outputs": [],
   "source": [
    "from functools import partial\n",
    "import mido\n",
    "import threading"
   ]
  },
  {
   "cell_type": "code",
   "execution_count": null,
   "id": "105cc1de",
   "metadata": {},
   "outputs": [],
   "source": [
    "def play_thread(midi, outport, kill, button):\n",
    "    debug.value = str(midi)\n",
    "    for m in midi.play():\n",
    "        if kill.is_set():\n",
    "            break\n",
    "        outport.send(m)\n",
    "    outport.reset()\n",
    "    button.description = 'Hear'\n",
    "\n",
    "\n",
    "class Player:\n",
    "    def __init__(self):\n",
    "        self.kill = None\n",
    "        self.outport = mido.open_output('mido_out', virtual=True)\n",
    "        \n",
    "    def play(self, midi, button):\n",
    "        self.stop()\n",
    "        self.kill = threading.Event()\n",
    "        self.thread = threading.Thread(target=play_thread, args=(midi, self.outport, self.kill, button))\n",
    "        self.thread.start()\n",
    "                \n",
    "    def stop(self):\n",
    "        if self.kill is not None:\n",
    "            self.kill.set()\n",
    "            self.thread.join()\n",
    "            \n",
    "    def __del__(self):\n",
    "        self.outport.close()"
   ]
  },
  {
   "cell_type": "code",
   "execution_count": null,
   "id": "e39c129d",
   "metadata": {},
   "outputs": [],
   "source": [
    "player = Player()"
   ]
  },
  {
   "cell_type": "code",
   "execution_count": null,
   "id": "fc568a1e",
   "metadata": {},
   "outputs": [],
   "source": [
    "def play_or_stop(button, midi):\n",
    "    if button.description == 'Hear':\n",
    "        button.description = 'Stop'\n",
    "        player.play(midi, button)\n",
    "    else:\n",
    "        button.description = 'Hear'\n",
    "        player.stop()"
   ]
  },
  {
   "cell_type": "code",
   "execution_count": null,
   "id": "960d8312",
   "metadata": {},
   "outputs": [],
   "source": [
    "from collections import deque"
   ]
  },
  {
   "cell_type": "code",
   "execution_count": null,
   "id": "85dd4e59",
   "metadata": {},
   "outputs": [],
   "source": [
    "def selected_refresh():\n",
    "    for i, ind in enumerate(individuals):\n",
    "        ind.remove_class('individual-selected')\n",
    "        if i in selected:\n",
    "            ind.add_class('individual-selected')\n",
    "            \n",
    "    breed_selected_button.disabled = False if len(selected) == 2 else True"
   ]
  },
  {
   "cell_type": "code",
   "execution_count": null,
   "id": "4f242d28",
   "metadata": {},
   "outputs": [],
   "source": [
    "def select_individual(i):\n",
    "    if i in selected:\n",
    "        return\n",
    "    selected.append(i)\n",
    "    selected_refresh()\n",
    "    debug.value = str(selected)"
   ]
  },
  {
   "cell_type": "code",
   "execution_count": null,
   "id": "3fe82a2e",
   "metadata": {},
   "outputs": [],
   "source": [
    "from genetic_musical_generator.random_genome_to_midi import random_genome"
   ]
  },
  {
   "cell_type": "code",
   "execution_count": null,
   "id": "e424ca76",
   "metadata": {},
   "outputs": [],
   "source": [
    "def generate_random(_):\n",
    "    population.append(Individual(random_genome(40)))\n",
    "    refresh_individual_list()"
   ]
  },
  {
   "cell_type": "code",
   "execution_count": null,
   "id": "e455088f",
   "metadata": {},
   "outputs": [],
   "source": [
    "from genetic_musical_generator.breed import mutate_crossover"
   ]
  },
  {
   "cell_type": "code",
   "execution_count": null,
   "id": "3236a4c4",
   "metadata": {},
   "outputs": [],
   "source": [
    "def breed_selected(_=None):\n",
    "    assert len(selected) == 2\n",
    "    population.append(Individual(mutate_crossover(*(population[s].genome for s in selected)), \n",
    "                                 generation=max([population[s].generation for s in selected])+1))\n",
    "    refresh_individual_list()"
   ]
  },
  {
   "cell_type": "code",
   "execution_count": null,
   "id": "70da5fa7",
   "metadata": {},
   "outputs": [],
   "source": [
    "from random import choices"
   ]
  },
  {
   "cell_type": "code",
   "execution_count": null,
   "id": "fedb9dc2",
   "metadata": {},
   "outputs": [],
   "source": [
    "def let_breed(_):\n",
    "    draw = partial(choices, range(len(population)), \n",
    "                   weights=[0 if p.rating is None else p.rating for p in population])\n",
    "\n",
    "    selected.extend(draw(k=2))\n",
    "    while selected[0] == selected[1]:\n",
    "        selected.extend(draw(k=1))\n",
    "        \n",
    "    selected_refresh()\n",
    "    breed_selected()"
   ]
  },
  {
   "cell_type": "code",
   "execution_count": null,
   "id": "33c17d14",
   "metadata": {},
   "outputs": [],
   "source": [
    "def save():\n",
    "    with savepath.open('wb') as f:\n",
    "        pickle.dump(population, f)"
   ]
  },
  {
   "cell_type": "code",
   "execution_count": null,
   "id": "6a3ba18a",
   "metadata": {},
   "outputs": [],
   "source": [
    "def refresh_individual_list():\n",
    "    global individuals, individual_list, breed_selected_button, generate_random_button, let_breed_button\n",
    "    individuals = [controls(p,i) for i,p in enumerate(population)]\n",
    "    individual_list = widg.VBox(individuals)\n",
    "    \n",
    "    generate_random_button = widg.Button(description='Generate Random')\n",
    "    generate_random_button.on_click(generate_random)\n",
    "    \n",
    "    breed_selected_button = widg.Button(description='Breed Selected', disabled=True)\n",
    "    breed_selected_button.on_click(breed_selected)\n",
    "    \n",
    "    let_breed_button = widg.Button(description='Let Breed', button_style='primary')\n",
    "    let_breed_button.on_click(let_breed)\n",
    "    \n",
    "    save()\n",
    "    \n",
    "    output.clear_output()\n",
    "    with output:\n",
    "        display(widg.VBox([\n",
    "            individual_list,\n",
    "            widg.VBox([\n",
    "                generate_random_button,\n",
    "                breed_selected_button,\n",
    "                let_breed_button\n",
    "            ])\n",
    "        ]))\n",
    "\n",
    "    selected_refresh()"
   ]
  },
  {
   "cell_type": "code",
   "execution_count": null,
   "id": "3c2708b5",
   "metadata": {},
   "outputs": [],
   "source": [
    "def kill_individual(i):\n",
    "    del population[i]\n",
    "    delete = []\n",
    "    for si,s in enumerate(selected):\n",
    "        if s > i:\n",
    "            selected[si] -= 1\n",
    "        elif s == i:\n",
    "            delete.append(si)\n",
    "    for si in delete:\n",
    "        del selected[si]\n",
    "        \n",
    "    debug.value = str(selected)\n",
    "\n",
    "    refresh_individual_list()"
   ]
  },
  {
   "cell_type": "code",
   "execution_count": null,
   "id": "80f4932c",
   "metadata": {},
   "outputs": [],
   "source": [
    "def assign_rating(i, change):\n",
    "    population[i].rating = change['new']\n",
    "    save()"
   ]
  },
  {
   "cell_type": "code",
   "execution_count": null,
   "id": "fcc8ad4e",
   "metadata": {},
   "outputs": [],
   "source": [
    "def controls(individual, i):\n",
    "    hear_button = widg.Button(description='Hear', layout=widg.Layout(width='60px'))\n",
    "    hear_button.on_click(lambda button: play_or_stop(button, genome2midi(individual.genome)))\n",
    "    \n",
    "    select_button = widg.Button(description='Select', layout=widg.Layout(width='60px'))\n",
    "    select_button.on_click(lambda button: select_individual(i))\n",
    "    \n",
    "    kill_button = widg.Button(description='Kill', layout=widg.Layout(width='60px'))\n",
    "    kill_button.on_click(lambda button: kill_individual(i))\n",
    "    \n",
    "    rating_box = widg.FloatText(description='Rating', value=individual.rating, \n",
    "                       layout=widg.Layout(flex='0 1 auto', width='auto'))\n",
    "    rating_box.observe(partial(assign_rating, i), names='value')\n",
    "    \n",
    "    return widg.HBox([\n",
    "        widg.Label(individual.genome, layout=widg.Layout(width='60%')), \n",
    "        hear_button,\n",
    "        select_button,\n",
    "        kill_button,\n",
    "        rating_box\n",
    "    ])"
   ]
  },
  {
   "cell_type": "code",
   "execution_count": null,
   "id": "6cc1522f",
   "metadata": {},
   "outputs": [],
   "source": [
    "selected = deque(maxlen=2)"
   ]
  },
  {
   "cell_type": "code",
   "execution_count": null,
   "id": "ae6ba11c",
   "metadata": {},
   "outputs": [],
   "source": [
    "debug = widg.Label(layout={'height': '30px', 'display': 'hidden'})\n",
    "debug"
   ]
  },
  {
   "cell_type": "code",
   "execution_count": null,
   "id": "e06d0374",
   "metadata": {},
   "outputs": [],
   "source": [
    "output = widg.Output()\n",
    "refresh_individual_list()\n",
    "output"
   ]
  },
  {
   "cell_type": "code",
   "execution_count": null,
   "id": "2cf13ce6",
   "metadata": {},
   "outputs": [],
   "source": [
    "space = widg.Label(layout={'height': '3000px'})\n",
    "space"
   ]
  },
  {
   "cell_type": "code",
   "execution_count": null,
   "id": "c54ecf2e",
   "metadata": {},
   "outputs": [],
   "source": []
  }
 ],
 "metadata": {
  "kernelspec": {
   "display_name": "Python 3 (ipykernel)",
   "language": "python",
   "name": "python3"
  }
 },
 "nbformat": 4,
 "nbformat_minor": 5
}
