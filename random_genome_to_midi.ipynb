{
 "cells": [
  {
   "cell_type": "code",
   "execution_count": 55,
   "id": "1ccbfce6",
   "metadata": {},
   "outputs": [],
   "source": [
    "#export\n",
    "import mido\n",
    "import time\n",
    "import random\n",
    "from dataclasses import dataclass"
   ]
  },
  {
   "cell_type": "code",
   "execution_count": 2,
   "id": "d1aa06b1",
   "metadata": {},
   "outputs": [],
   "source": [
    "outport = mido.open_output('mido_out', virtual=True)"
   ]
  },
  {
   "cell_type": "code",
   "execution_count": 12,
   "id": "b911b244",
   "metadata": {},
   "outputs": [],
   "source": [
    "outport.send(mido.Message('note_on', note=60))"
   ]
  },
  {
   "cell_type": "code",
   "execution_count": 13,
   "id": "a5962622",
   "metadata": {},
   "outputs": [],
   "source": [
    "outport.send(mido.Message('note_off', note=60))"
   ]
  },
  {
   "cell_type": "code",
   "execution_count": 26,
   "id": "05723b60",
   "metadata": {},
   "outputs": [],
   "source": [
    "#export\n",
    "def random_genome(length):\n",
    "    alphabet = 'UDFBS'\n",
    "    return ''.join([random.sample(alphabet, k=1)[0] for _ in range(length)])"
   ]
  },
  {
   "cell_type": "code",
   "execution_count": 29,
   "id": "f4505e40",
   "metadata": {},
   "outputs": [
    {
     "data": {
      "text/plain": [
       "'SFBBBDBSFB'"
      ]
     },
     "execution_count": 29,
     "metadata": {},
     "output_type": "execute_result"
    }
   ],
   "source": [
    "random_genome(10)"
   ]
  },
  {
   "cell_type": "code",
   "execution_count": 56,
   "id": "031fd256",
   "metadata": {},
   "outputs": [],
   "source": [
    "#export\n",
    "@dataclass\n",
    "class Note:\n",
    "    pitch: int\n",
    "    begin: float\n",
    "    length: float"
   ]
  },
  {
   "cell_type": "code",
   "execution_count": 57,
   "id": "64736fbb",
   "metadata": {},
   "outputs": [],
   "source": [
    "def events_length(genome):\n",
    "    numeric = lambda g: {'U':1, 'D':2, 'F':3, 'B':5, 'S':7}[g]\n",
    "\n",
    "    output = []\n",
    "    t_pos_t = 0\n",
    "    t_pos_p = 60\n",
    "    t_len = 1\n",
    "    saw_S = False\n",
    "    \n",
    "    c = iter(genome)\n",
    "\n",
    "    try:\n",
    "        while True:\n",
    "            l = next(c)\n",
    "            if l == 'S':\n",
    "                if saw_S:\n",
    "                    # second S, undo stamp and resize turtle\n",
    "                    del output[-1]\n",
    "                    t_len *= numeric(next(c)) / numeric(next(c))\n",
    "                else:\n",
    "                    saw_S = True\n",
    "                    output.append(Note(t_pos_p, t_pos_t, t_len))\n",
    "                    continue\n",
    "\n",
    "            elif l == 'U':\n",
    "                t_pos_p += 1\n",
    "            elif l == 'D':\n",
    "                t_pos_p -= 1\n",
    "            elif l == 'F':\n",
    "                t_pos_t += t_len\n",
    "            elif l == 'B':\n",
    "                t_pos_t -= t_len\n",
    "            else:\n",
    "                raise ValueError(f'Unexpected letter in genome: {l}')\n",
    "\n",
    "            saw_S = False\n",
    "\n",
    "    except StopIteration:\n",
    "        return output"
   ]
  },
  {
   "cell_type": "code",
   "execution_count": 59,
   "id": "7fd7fa1a",
   "metadata": {},
   "outputs": [
    {
     "data": {
      "text/plain": [
       "[Note(pitch=59, begin=-1, length=1),\n",
       " Note(pitch=59, begin=2, length=1),\n",
       " Note(pitch=58, begin=4, length=1),\n",
       " Note(pitch=57, begin=3.0, length=1.3333333333333333)]"
      ]
     },
     "execution_count": 59,
     "metadata": {},
     "output_type": "execute_result"
    }
   ],
   "source": [
    "events_length(random_genome(40))"
   ]
  },
  {
   "cell_type": "code",
   "execution_count": 62,
   "id": "c7ba7777",
   "metadata": {},
   "outputs": [],
   "source": [
    "@dataclass\n",
    "class NoteOn:\n",
    "    pitch: int\n",
    "    time: float\n",
    "        \n",
    "@dataclass\n",
    "class NoteOff:\n",
    "    pitch: int\n",
    "    time: float"
   ]
  },
  {
   "cell_type": "code",
   "execution_count": 71,
   "id": "758185ca",
   "metadata": {},
   "outputs": [],
   "source": [
    "def events_on_off(events):\n",
    "    output = []\n",
    "    for e in events:\n",
    "        output.append(NoteOn(e.pitch, e.begin))\n",
    "        output.append(NoteOff(e.pitch, e.begin+e.length))\n",
    "        \n",
    "    return sorted(output, key=lambda e: e.time - (1e-9 if isinstance(e,NoteOff) else 0))"
   ]
  },
  {
   "cell_type": "code",
   "execution_count": 75,
   "id": "d3bcc148",
   "metadata": {},
   "outputs": [
    {
     "data": {
      "text/plain": [
       "[NoteOn(pitch=60, time=0),\n",
       " NoteOn(pitch=61, time=0),\n",
       " NoteOff(pitch=60, time=1),\n",
       " NoteOff(pitch=61, time=1),\n",
       " NoteOn(pitch=61, time=1),\n",
       " NoteOff(pitch=61, time=2),\n",
       " NoteOn(pitch=62, time=7),\n",
       " NoteOff(pitch=62, time=8),\n",
       " NoteOn(pitch=60, time=8),\n",
       " NoteOn(pitch=62, time=8),\n",
       " NoteOff(pitch=60, time=9),\n",
       " NoteOff(pitch=62, time=9),\n",
       " NoteOn(pitch=61, time=10),\n",
       " NoteOff(pitch=61, time=11)]"
      ]
     },
     "execution_count": 75,
     "metadata": {},
     "output_type": "execute_result"
    }
   ],
   "source": [
    "l = events_on_off(events_length(random_genome(40)))\n",
    "l"
   ]
  },
  {
   "cell_type": "code",
   "execution_count": 80,
   "id": "d0aa8e36",
   "metadata": {},
   "outputs": [],
   "source": [
    "def genome2midi(genome):\n",
    "    midifile = mido.MidiFile(type=0)\n",
    "    track = mido.MidiTrack()\n",
    "    midifile.tracks.append(track)\n",
    "    \n",
    "    ppq = midifile.ticks_per_beat\n",
    "\n",
    "    events = iter(events_on_off(events_length(genome)))\n",
    "\n",
    "    e = None\n",
    "    try:\n",
    "        n = next(events)\n",
    "        while True:\n",
    "            e = mido.Message('note_on' if isinstance(n, NoteOn) else 'note_off', note=n.pitch)\n",
    "            e_start = n.time\n",
    "            n = next(events)\n",
    "            e.time = round((n.time - e_start) * ppq)\n",
    "            track.append(e)\n",
    "        \n",
    "    except StopIteration:\n",
    "        if e is not None:\n",
    "            track.append(e)\n",
    "            \n",
    "    return midifile"
   ]
  },
  {
   "cell_type": "code",
   "execution_count": 82,
   "id": "24a52de5",
   "metadata": {},
   "outputs": [
    {
     "data": {
      "text/plain": [
       "MidiFile(type=0, ticks_per_beat=480, tracks=[\n",
       "  MidiTrack([\n",
       "    Message('note_on', channel=0, note=61, velocity=64, time=160),\n",
       "    Message('note_on', channel=0, note=67, velocity=64, time=320),\n",
       "    Message('note_off', channel=0, note=61, velocity=64, time=0),\n",
       "    Message('note_on', channel=0, note=65, velocity=64, time=0),\n",
       "    Message('note_on', channel=0, note=65, velocity=64, time=480),\n",
       "    Message('note_off', channel=0, note=65, velocity=64, time=0),\n",
       "    Message('note_off', channel=0, note=65, velocity=64, time=0),\n",
       "    Message('note_off', channel=0, note=67, velocity=64, time=0),\n",
       "    Message('note_on', channel=0, note=64, velocity=64, time=480),\n",
       "    Message('note_off', channel=0, note=64, velocity=64, time=0)])\n",
       "])"
      ]
     },
     "execution_count": 82,
     "metadata": {},
     "output_type": "execute_result"
    }
   ],
   "source": [
    "song = genome2midi(random_genome(40))\n",
    "song"
   ]
  },
  {
   "cell_type": "code",
   "execution_count": 100,
   "id": "6e66a9f8",
   "metadata": {},
   "outputs": [],
   "source": [
    "for m in song.play():\n",
    "    outport.send(m)"
   ]
  },
  {
   "cell_type": "code",
   "execution_count": null,
   "id": "ca18626b",
   "metadata": {},
   "outputs": [],
   "source": []
  }
 ],
 "metadata": {
  "kernelspec": {
   "display_name": "Python 3 (ipykernel)",
   "language": "python",
   "name": "python3"
  },
  "language_info": {
   "codemirror_mode": {
    "name": "ipython",
    "version": 3
   },
   "file_extension": ".py",
   "mimetype": "text/x-python",
   "name": "python",
   "nbconvert_exporter": "python",
   "pygments_lexer": "ipython3",
   "version": "3.10.4"
  }
 },
 "nbformat": 4,
 "nbformat_minor": 5
}
